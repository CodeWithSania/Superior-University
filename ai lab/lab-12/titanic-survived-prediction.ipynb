{
 "cells": [
  {
   "cell_type": "code",
   "execution_count": null,
   "id": "91a81813",
   "metadata": {
    "execution": {
     "iopub.execute_input": "2024-12-08T16:00:45.259931Z",
     "iopub.status.busy": "2024-12-08T16:00:45.259358Z",
     "iopub.status.idle": "2024-12-08T16:00:48.460269Z",
     "shell.execute_reply": "2024-12-08T16:00:48.458908Z"
    },
    "papermill": {
     "duration": 3.21075,
     "end_time": "2024-12-08T16:00:48.463190",
     "exception": false,
     "start_time": "2024-12-08T16:00:45.252440",
     "status": "completed"
    },
    "tags": []
   },
   "outputs": [],
   "source": [
    "import pandas as pd\n",
    "import numpy as n\n",
    "from sklearn.tree import DecisionTreeClassifier\n",
    "from sklearn.ensemble import RandomForestClassifier, GradientBoostingClassifier\n",
    "from xgboost import XGBClassifier\n",
    "from sklearn.model_selection import KFold, cross_val_score"
   ]
  },
  {
   "cell_type": "code",
   "execution_count": null,
   "id": "d911b71e",
   "metadata": {
    "execution": {
     "iopub.execute_input": "2024-12-08T16:00:48.474906Z",
     "iopub.status.busy": "2024-12-08T16:00:48.473599Z",
     "iopub.status.idle": "2024-12-08T16:00:48.510988Z",
     "shell.execute_reply": "2024-12-08T16:00:48.509798Z"
    },
    "papermill": {
     "duration": 0.045827,
     "end_time": "2024-12-08T16:00:48.513678",
     "exception": false,
     "start_time": "2024-12-08T16:00:48.467851",
     "status": "completed"
    },
    "tags": []
   },
   "outputs": [],
   "source": [
    "df_train = pd.read_csv('train.csv')\n",
    "X_test = pd.read_csv('test.csv')\n",
    "Y_test = pd.read_csv('gender_submission.csv')"
   ]
  },
  {
   "cell_type": "code",
   "execution_count": 3,
   "id": "63171bb7",
   "metadata": {
    "execution": {
     "iopub.execute_input": "2024-12-08T16:00:48.525852Z",
     "iopub.status.busy": "2024-12-08T16:00:48.525378Z",
     "iopub.status.idle": "2024-12-08T16:00:48.552799Z",
     "shell.execute_reply": "2024-12-08T16:00:48.551546Z"
    },
    "papermill": {
     "duration": 0.036821,
     "end_time": "2024-12-08T16:00:48.555062",
     "exception": false,
     "start_time": "2024-12-08T16:00:48.518241",
     "status": "completed"
    },
    "tags": []
   },
   "outputs": [
    {
     "data": {
      "text/html": [
       "<div>\n",
       "<style scoped>\n",
       "    .dataframe tbody tr th:only-of-type {\n",
       "        vertical-align: middle;\n",
       "    }\n",
       "\n",
       "    .dataframe tbody tr th {\n",
       "        vertical-align: top;\n",
       "    }\n",
       "\n",
       "    .dataframe thead th {\n",
       "        text-align: right;\n",
       "    }\n",
       "</style>\n",
       "<table border=\"1\" class=\"dataframe\">\n",
       "  <thead>\n",
       "    <tr style=\"text-align: right;\">\n",
       "      <th></th>\n",
       "      <th>PassengerId</th>\n",
       "      <th>Survived</th>\n",
       "      <th>Pclass</th>\n",
       "      <th>Name</th>\n",
       "      <th>Sex</th>\n",
       "      <th>Age</th>\n",
       "      <th>SibSp</th>\n",
       "      <th>Parch</th>\n",
       "      <th>Ticket</th>\n",
       "      <th>Fare</th>\n",
       "      <th>Cabin</th>\n",
       "      <th>Embarked</th>\n",
       "    </tr>\n",
       "  </thead>\n",
       "  <tbody>\n",
       "    <tr>\n",
       "      <th>0</th>\n",
       "      <td>1</td>\n",
       "      <td>0</td>\n",
       "      <td>3</td>\n",
       "      <td>Braund, Mr. Owen Harris</td>\n",
       "      <td>male</td>\n",
       "      <td>22.0</td>\n",
       "      <td>1</td>\n",
       "      <td>0</td>\n",
       "      <td>A/5 21171</td>\n",
       "      <td>7.2500</td>\n",
       "      <td>NaN</td>\n",
       "      <td>S</td>\n",
       "    </tr>\n",
       "    <tr>\n",
       "      <th>1</th>\n",
       "      <td>2</td>\n",
       "      <td>1</td>\n",
       "      <td>1</td>\n",
       "      <td>Cumings, Mrs. John Bradley (Florence Briggs Th...</td>\n",
       "      <td>female</td>\n",
       "      <td>38.0</td>\n",
       "      <td>1</td>\n",
       "      <td>0</td>\n",
       "      <td>PC 17599</td>\n",
       "      <td>71.2833</td>\n",
       "      <td>C85</td>\n",
       "      <td>C</td>\n",
       "    </tr>\n",
       "    <tr>\n",
       "      <th>2</th>\n",
       "      <td>3</td>\n",
       "      <td>1</td>\n",
       "      <td>3</td>\n",
       "      <td>Heikkinen, Miss. Laina</td>\n",
       "      <td>female</td>\n",
       "      <td>26.0</td>\n",
       "      <td>0</td>\n",
       "      <td>0</td>\n",
       "      <td>STON/O2. 3101282</td>\n",
       "      <td>7.9250</td>\n",
       "      <td>NaN</td>\n",
       "      <td>S</td>\n",
       "    </tr>\n",
       "    <tr>\n",
       "      <th>3</th>\n",
       "      <td>4</td>\n",
       "      <td>1</td>\n",
       "      <td>1</td>\n",
       "      <td>Futrelle, Mrs. Jacques Heath (Lily May Peel)</td>\n",
       "      <td>female</td>\n",
       "      <td>35.0</td>\n",
       "      <td>1</td>\n",
       "      <td>0</td>\n",
       "      <td>113803</td>\n",
       "      <td>53.1000</td>\n",
       "      <td>C123</td>\n",
       "      <td>S</td>\n",
       "    </tr>\n",
       "    <tr>\n",
       "      <th>4</th>\n",
       "      <td>5</td>\n",
       "      <td>0</td>\n",
       "      <td>3</td>\n",
       "      <td>Allen, Mr. William Henry</td>\n",
       "      <td>male</td>\n",
       "      <td>35.0</td>\n",
       "      <td>0</td>\n",
       "      <td>0</td>\n",
       "      <td>373450</td>\n",
       "      <td>8.0500</td>\n",
       "      <td>NaN</td>\n",
       "      <td>S</td>\n",
       "    </tr>\n",
       "  </tbody>\n",
       "</table>\n",
       "</div>"
      ],
      "text/plain": [
       "   PassengerId  Survived  Pclass  \\\n",
       "0            1         0       3   \n",
       "1            2         1       1   \n",
       "2            3         1       3   \n",
       "3            4         1       1   \n",
       "4            5         0       3   \n",
       "\n",
       "                                                Name     Sex   Age  SibSp  \\\n",
       "0                            Braund, Mr. Owen Harris    male  22.0      1   \n",
       "1  Cumings, Mrs. John Bradley (Florence Briggs Th...  female  38.0      1   \n",
       "2                             Heikkinen, Miss. Laina  female  26.0      0   \n",
       "3       Futrelle, Mrs. Jacques Heath (Lily May Peel)  female  35.0      1   \n",
       "4                           Allen, Mr. William Henry    male  35.0      0   \n",
       "\n",
       "   Parch            Ticket     Fare Cabin Embarked  \n",
       "0      0         A/5 21171   7.2500   NaN        S  \n",
       "1      0          PC 17599  71.2833   C85        C  \n",
       "2      0  STON/O2. 3101282   7.9250   NaN        S  \n",
       "3      0            113803  53.1000  C123        S  \n",
       "4      0            373450   8.0500   NaN        S  "
      ]
     },
     "execution_count": 3,
     "metadata": {},
     "output_type": "execute_result"
    }
   ],
   "source": [
    "df_train.head()"
   ]
  },
  {
   "cell_type": "code",
   "execution_count": 4,
   "id": "5e46f8d7",
   "metadata": {
    "execution": {
     "iopub.execute_input": "2024-12-08T16:00:48.567681Z",
     "iopub.status.busy": "2024-12-08T16:00:48.567163Z",
     "iopub.status.idle": "2024-12-08T16:00:48.583182Z",
     "shell.execute_reply": "2024-12-08T16:00:48.581932Z"
    },
    "papermill": {
     "duration": 0.025804,
     "end_time": "2024-12-08T16:00:48.585582",
     "exception": false,
     "start_time": "2024-12-08T16:00:48.559778",
     "status": "completed"
    },
    "tags": []
   },
   "outputs": [
    {
     "data": {
      "text/html": [
       "<div>\n",
       "<style scoped>\n",
       "    .dataframe tbody tr th:only-of-type {\n",
       "        vertical-align: middle;\n",
       "    }\n",
       "\n",
       "    .dataframe tbody tr th {\n",
       "        vertical-align: top;\n",
       "    }\n",
       "\n",
       "    .dataframe thead th {\n",
       "        text-align: right;\n",
       "    }\n",
       "</style>\n",
       "<table border=\"1\" class=\"dataframe\">\n",
       "  <thead>\n",
       "    <tr style=\"text-align: right;\">\n",
       "      <th></th>\n",
       "      <th>PassengerId</th>\n",
       "      <th>Pclass</th>\n",
       "      <th>Name</th>\n",
       "      <th>Sex</th>\n",
       "      <th>Age</th>\n",
       "      <th>SibSp</th>\n",
       "      <th>Parch</th>\n",
       "      <th>Ticket</th>\n",
       "      <th>Fare</th>\n",
       "      <th>Cabin</th>\n",
       "      <th>Embarked</th>\n",
       "    </tr>\n",
       "  </thead>\n",
       "  <tbody>\n",
       "    <tr>\n",
       "      <th>0</th>\n",
       "      <td>892</td>\n",
       "      <td>3</td>\n",
       "      <td>Kelly, Mr. James</td>\n",
       "      <td>male</td>\n",
       "      <td>34.5</td>\n",
       "      <td>0</td>\n",
       "      <td>0</td>\n",
       "      <td>330911</td>\n",
       "      <td>7.8292</td>\n",
       "      <td>NaN</td>\n",
       "      <td>Q</td>\n",
       "    </tr>\n",
       "    <tr>\n",
       "      <th>1</th>\n",
       "      <td>893</td>\n",
       "      <td>3</td>\n",
       "      <td>Wilkes, Mrs. James (Ellen Needs)</td>\n",
       "      <td>female</td>\n",
       "      <td>47.0</td>\n",
       "      <td>1</td>\n",
       "      <td>0</td>\n",
       "      <td>363272</td>\n",
       "      <td>7.0000</td>\n",
       "      <td>NaN</td>\n",
       "      <td>S</td>\n",
       "    </tr>\n",
       "    <tr>\n",
       "      <th>2</th>\n",
       "      <td>894</td>\n",
       "      <td>2</td>\n",
       "      <td>Myles, Mr. Thomas Francis</td>\n",
       "      <td>male</td>\n",
       "      <td>62.0</td>\n",
       "      <td>0</td>\n",
       "      <td>0</td>\n",
       "      <td>240276</td>\n",
       "      <td>9.6875</td>\n",
       "      <td>NaN</td>\n",
       "      <td>Q</td>\n",
       "    </tr>\n",
       "    <tr>\n",
       "      <th>3</th>\n",
       "      <td>895</td>\n",
       "      <td>3</td>\n",
       "      <td>Wirz, Mr. Albert</td>\n",
       "      <td>male</td>\n",
       "      <td>27.0</td>\n",
       "      <td>0</td>\n",
       "      <td>0</td>\n",
       "      <td>315154</td>\n",
       "      <td>8.6625</td>\n",
       "      <td>NaN</td>\n",
       "      <td>S</td>\n",
       "    </tr>\n",
       "    <tr>\n",
       "      <th>4</th>\n",
       "      <td>896</td>\n",
       "      <td>3</td>\n",
       "      <td>Hirvonen, Mrs. Alexander (Helga E Lindqvist)</td>\n",
       "      <td>female</td>\n",
       "      <td>22.0</td>\n",
       "      <td>1</td>\n",
       "      <td>1</td>\n",
       "      <td>3101298</td>\n",
       "      <td>12.2875</td>\n",
       "      <td>NaN</td>\n",
       "      <td>S</td>\n",
       "    </tr>\n",
       "  </tbody>\n",
       "</table>\n",
       "</div>"
      ],
      "text/plain": [
       "   PassengerId  Pclass                                          Name     Sex  \\\n",
       "0          892       3                              Kelly, Mr. James    male   \n",
       "1          893       3              Wilkes, Mrs. James (Ellen Needs)  female   \n",
       "2          894       2                     Myles, Mr. Thomas Francis    male   \n",
       "3          895       3                              Wirz, Mr. Albert    male   \n",
       "4          896       3  Hirvonen, Mrs. Alexander (Helga E Lindqvist)  female   \n",
       "\n",
       "    Age  SibSp  Parch   Ticket     Fare Cabin Embarked  \n",
       "0  34.5      0      0   330911   7.8292   NaN        Q  \n",
       "1  47.0      1      0   363272   7.0000   NaN        S  \n",
       "2  62.0      0      0   240276   9.6875   NaN        Q  \n",
       "3  27.0      0      0   315154   8.6625   NaN        S  \n",
       "4  22.0      1      1  3101298  12.2875   NaN        S  "
      ]
     },
     "execution_count": 4,
     "metadata": {},
     "output_type": "execute_result"
    }
   ],
   "source": [
    "X_test.head()"
   ]
  },
  {
   "cell_type": "code",
   "execution_count": 5,
   "id": "d69dd876",
   "metadata": {
    "execution": {
     "iopub.execute_input": "2024-12-08T16:00:48.597189Z",
     "iopub.status.busy": "2024-12-08T16:00:48.596770Z",
     "iopub.status.idle": "2024-12-08T16:00:48.627308Z",
     "shell.execute_reply": "2024-12-08T16:00:48.625827Z"
    },
    "papermill": {
     "duration": 0.039377,
     "end_time": "2024-12-08T16:00:48.629914",
     "exception": false,
     "start_time": "2024-12-08T16:00:48.590537",
     "status": "completed"
    },
    "tags": []
   },
   "outputs": [
    {
     "name": "stdout",
     "output_type": "stream",
     "text": [
      "<class 'pandas.core.frame.DataFrame'>\n",
      "RangeIndex: 891 entries, 0 to 890\n",
      "Data columns (total 12 columns):\n",
      " #   Column       Non-Null Count  Dtype  \n",
      "---  ------       --------------  -----  \n",
      " 0   PassengerId  891 non-null    int64  \n",
      " 1   Survived     891 non-null    int64  \n",
      " 2   Pclass       891 non-null    int64  \n",
      " 3   Name         891 non-null    object \n",
      " 4   Sex          891 non-null    object \n",
      " 5   Age          714 non-null    float64\n",
      " 6   SibSp        891 non-null    int64  \n",
      " 7   Parch        891 non-null    int64  \n",
      " 8   Ticket       891 non-null    object \n",
      " 9   Fare         891 non-null    float64\n",
      " 10  Cabin        204 non-null    object \n",
      " 11  Embarked     889 non-null    object \n",
      "dtypes: float64(2), int64(5), object(5)\n",
      "memory usage: 83.7+ KB\n"
     ]
    }
   ],
   "source": [
    "df_train.info()"
   ]
  },
  {
   "cell_type": "code",
   "execution_count": 6,
   "id": "b8f01e89",
   "metadata": {
    "execution": {
     "iopub.execute_input": "2024-12-08T16:00:48.642573Z",
     "iopub.status.busy": "2024-12-08T16:00:48.641361Z",
     "iopub.status.idle": "2024-12-08T16:00:48.653925Z",
     "shell.execute_reply": "2024-12-08T16:00:48.652668Z"
    },
    "papermill": {
     "duration": 0.02162,
     "end_time": "2024-12-08T16:00:48.656720",
     "exception": false,
     "start_time": "2024-12-08T16:00:48.635100",
     "status": "completed"
    },
    "tags": []
   },
   "outputs": [
    {
     "name": "stdout",
     "output_type": "stream",
     "text": [
      "<class 'pandas.core.frame.DataFrame'>\n",
      "RangeIndex: 418 entries, 0 to 417\n",
      "Data columns (total 11 columns):\n",
      " #   Column       Non-Null Count  Dtype  \n",
      "---  ------       --------------  -----  \n",
      " 0   PassengerId  418 non-null    int64  \n",
      " 1   Pclass       418 non-null    int64  \n",
      " 2   Name         418 non-null    object \n",
      " 3   Sex          418 non-null    object \n",
      " 4   Age          332 non-null    float64\n",
      " 5   SibSp        418 non-null    int64  \n",
      " 6   Parch        418 non-null    int64  \n",
      " 7   Ticket       418 non-null    object \n",
      " 8   Fare         417 non-null    float64\n",
      " 9   Cabin        91 non-null     object \n",
      " 10  Embarked     418 non-null    object \n",
      "dtypes: float64(2), int64(4), object(5)\n",
      "memory usage: 36.0+ KB\n"
     ]
    }
   ],
   "source": [
    "X_test.info()"
   ]
  },
  {
   "cell_type": "code",
   "execution_count": 7,
   "id": "e8241f62",
   "metadata": {
    "execution": {
     "iopub.execute_input": "2024-12-08T16:00:48.668727Z",
     "iopub.status.busy": "2024-12-08T16:00:48.668277Z",
     "iopub.status.idle": "2024-12-08T16:00:48.678238Z",
     "shell.execute_reply": "2024-12-08T16:00:48.677102Z"
    },
    "papermill": {
     "duration": 0.018914,
     "end_time": "2024-12-08T16:00:48.680645",
     "exception": false,
     "start_time": "2024-12-08T16:00:48.661731",
     "status": "completed"
    },
    "tags": []
   },
   "outputs": [
    {
     "data": {
      "text/html": [
       "<div>\n",
       "<style scoped>\n",
       "    .dataframe tbody tr th:only-of-type {\n",
       "        vertical-align: middle;\n",
       "    }\n",
       "\n",
       "    .dataframe tbody tr th {\n",
       "        vertical-align: top;\n",
       "    }\n",
       "\n",
       "    .dataframe thead th {\n",
       "        text-align: right;\n",
       "    }\n",
       "</style>\n",
       "<table border=\"1\" class=\"dataframe\">\n",
       "  <thead>\n",
       "    <tr style=\"text-align: right;\">\n",
       "      <th></th>\n",
       "      <th>PassengerId</th>\n",
       "      <th>Survived</th>\n",
       "    </tr>\n",
       "  </thead>\n",
       "  <tbody>\n",
       "    <tr>\n",
       "      <th>0</th>\n",
       "      <td>892</td>\n",
       "      <td>0</td>\n",
       "    </tr>\n",
       "    <tr>\n",
       "      <th>1</th>\n",
       "      <td>893</td>\n",
       "      <td>1</td>\n",
       "    </tr>\n",
       "    <tr>\n",
       "      <th>2</th>\n",
       "      <td>894</td>\n",
       "      <td>0</td>\n",
       "    </tr>\n",
       "    <tr>\n",
       "      <th>3</th>\n",
       "      <td>895</td>\n",
       "      <td>0</td>\n",
       "    </tr>\n",
       "    <tr>\n",
       "      <th>4</th>\n",
       "      <td>896</td>\n",
       "      <td>1</td>\n",
       "    </tr>\n",
       "  </tbody>\n",
       "</table>\n",
       "</div>"
      ],
      "text/plain": [
       "   PassengerId  Survived\n",
       "0          892         0\n",
       "1          893         1\n",
       "2          894         0\n",
       "3          895         0\n",
       "4          896         1"
      ]
     },
     "execution_count": 7,
     "metadata": {},
     "output_type": "execute_result"
    }
   ],
   "source": [
    "Y_test.head()"
   ]
  },
  {
   "cell_type": "code",
   "execution_count": 8,
   "id": "35aa56bc",
   "metadata": {
    "execution": {
     "iopub.execute_input": "2024-12-08T16:00:48.693733Z",
     "iopub.status.busy": "2024-12-08T16:00:48.692657Z",
     "iopub.status.idle": "2024-12-08T16:00:48.704489Z",
     "shell.execute_reply": "2024-12-08T16:00:48.703259Z"
    },
    "papermill": {
     "duration": 0.021019,
     "end_time": "2024-12-08T16:00:48.706887",
     "exception": false,
     "start_time": "2024-12-08T16:00:48.685868",
     "status": "completed"
    },
    "tags": []
   },
   "outputs": [
    {
     "name": "stdout",
     "output_type": "stream",
     "text": [
      "<class 'pandas.core.frame.DataFrame'>\n",
      "RangeIndex: 418 entries, 0 to 417\n",
      "Data columns (total 2 columns):\n",
      " #   Column       Non-Null Count  Dtype\n",
      "---  ------       --------------  -----\n",
      " 0   PassengerId  418 non-null    int64\n",
      " 1   Survived     418 non-null    int64\n",
      "dtypes: int64(2)\n",
      "memory usage: 6.7 KB\n"
     ]
    }
   ],
   "source": [
    "Y_test.info()"
   ]
  },
  {
   "cell_type": "code",
   "execution_count": 9,
   "id": "54387060",
   "metadata": {
    "execution": {
     "iopub.execute_input": "2024-12-08T16:00:48.719191Z",
     "iopub.status.busy": "2024-12-08T16:00:48.718792Z",
     "iopub.status.idle": "2024-12-08T16:00:48.730948Z",
     "shell.execute_reply": "2024-12-08T16:00:48.729792Z"
    },
    "papermill": {
     "duration": 0.020916,
     "end_time": "2024-12-08T16:00:48.733235",
     "exception": false,
     "start_time": "2024-12-08T16:00:48.712319",
     "status": "completed"
    },
    "tags": []
   },
   "outputs": [],
   "source": [
    "X_test_passenger_id = X_test[['PassengerId']]\n",
    "df_train = df_train.drop(['PassengerId','Name','Ticket','Cabin'], axis=1)\n",
    "X_test = X_test.drop(['PassengerId','Name','Ticket','Cabin'], axis=1)\n",
    "Y_test = Y_test.drop(['PassengerId'],axis=1)"
   ]
  },
  {
   "cell_type": "code",
   "execution_count": 10,
   "id": "199b5546",
   "metadata": {
    "execution": {
     "iopub.execute_input": "2024-12-08T16:00:48.746015Z",
     "iopub.status.busy": "2024-12-08T16:00:48.745092Z",
     "iopub.status.idle": "2024-12-08T16:00:48.758686Z",
     "shell.execute_reply": "2024-12-08T16:00:48.757707Z"
    },
    "papermill": {
     "duration": 0.022563,
     "end_time": "2024-12-08T16:00:48.761230",
     "exception": false,
     "start_time": "2024-12-08T16:00:48.738667",
     "status": "completed"
    },
    "tags": []
   },
   "outputs": [],
   "source": [
    "df_train = pd.get_dummies(df_train,columns=['Sex','Embarked'],drop_first=True)\n",
    "X_test = pd.get_dummies(X_test,columns=['Sex','Embarked'],drop_first=True)"
   ]
  },
  {
   "cell_type": "code",
   "execution_count": 11,
   "id": "e1f6a4da",
   "metadata": {
    "execution": {
     "iopub.execute_input": "2024-12-08T16:00:48.773363Z",
     "iopub.status.busy": "2024-12-08T16:00:48.772988Z",
     "iopub.status.idle": "2024-12-08T16:00:48.779769Z",
     "shell.execute_reply": "2024-12-08T16:00:48.778574Z"
    },
    "papermill": {
     "duration": 0.01579,
     "end_time": "2024-12-08T16:00:48.782216",
     "exception": false,
     "start_time": "2024-12-08T16:00:48.766426",
     "status": "completed"
    },
    "tags": []
   },
   "outputs": [],
   "source": [
    "Y_train = df_train['Survived']\n",
    "X_train = df_train.drop(['Survived'],axis=1)"
   ]
  },
  {
   "cell_type": "code",
   "execution_count": 12,
   "id": "c786a233",
   "metadata": {
    "execution": {
     "iopub.execute_input": "2024-12-08T16:00:48.794388Z",
     "iopub.status.busy": "2024-12-08T16:00:48.794014Z",
     "iopub.status.idle": "2024-12-08T16:00:48.812967Z",
     "shell.execute_reply": "2024-12-08T16:00:48.811575Z"
    },
    "papermill": {
     "duration": 0.027816,
     "end_time": "2024-12-08T16:00:48.815264",
     "exception": false,
     "start_time": "2024-12-08T16:00:48.787448",
     "status": "completed"
    },
    "tags": []
   },
   "outputs": [
    {
     "name": "stdout",
     "output_type": "stream",
     "text": [
      "     Pclass   Age  SibSp  Parch     Fare  Sex_male  Embarked_Q  Embarked_S\n",
      "33        2  66.0      0      0  10.5000      True       False        True\n",
      "54        1  65.0      0      1  61.9792      True       False       False\n",
      "96        1  71.0      0      0  34.6542      True       False       False\n",
      "116       3  70.5      0      0   7.7500      True        True       False\n",
      "280       3  65.0      0      0   7.7500      True        True       False\n",
      "456       1  65.0      0      0  26.5500      True       False        True\n",
      "493       1  71.0      0      0  49.5042      True       False       False\n",
      "630       1  80.0      0      0  30.0000      True       False        True\n",
      "672       2  70.0      0      0  10.5000      True       False        True\n",
      "745       1  70.0      1      1  71.0000      True       False        True\n",
      "851       3  74.0      0      0   7.7750      True       False        True\n"
     ]
    }
   ],
   "source": [
    "Q1 = X_train['Age'].quantile(0.25)\n",
    "Q3 = X_train['Age'].quantile(0.75)\n",
    "IQR = Q3 - Q1\n",
    "\n",
    "lower_bound = Q1 - 1.5 * IQR\n",
    "upper_bound = Q3 + 1.5 * IQR\n",
    "\n",
    "outliers = X_train[(X_train['Age'] < lower_bound) | (X_train['Age'] > upper_bound)]\n",
    "print(outliers)"
   ]
  },
  {
   "cell_type": "code",
   "execution_count": 13,
   "id": "ac0da54b",
   "metadata": {
    "execution": {
     "iopub.execute_input": "2024-12-08T16:00:48.827706Z",
     "iopub.status.busy": "2024-12-08T16:00:48.827215Z",
     "iopub.status.idle": "2024-12-08T16:00:48.836619Z",
     "shell.execute_reply": "2024-12-08T16:00:48.835491Z"
    },
    "papermill": {
     "duration": 0.018331,
     "end_time": "2024-12-08T16:00:48.838888",
     "exception": false,
     "start_time": "2024-12-08T16:00:48.820557",
     "status": "completed"
    },
    "tags": []
   },
   "outputs": [],
   "source": [
    "X_train['Age'] = X_train['Age'].fillna(X_train['Age'].mean())\n",
    "X_test['Age'] = X_test['Age'].fillna(X_test['Age'].mean())\n",
    "X_test['Fare'] = X_test['Fare'].fillna(X_test['Fare'].mean())"
   ]
  },
  {
   "cell_type": "code",
   "execution_count": 14,
   "id": "5d7e5668",
   "metadata": {
    "execution": {
     "iopub.execute_input": "2024-12-08T16:00:48.851489Z",
     "iopub.status.busy": "2024-12-08T16:00:48.851051Z",
     "iopub.status.idle": "2024-12-08T16:00:48.871541Z",
     "shell.execute_reply": "2024-12-08T16:00:48.870364Z"
    },
    "papermill": {
     "duration": 0.029708,
     "end_time": "2024-12-08T16:00:48.873889",
     "exception": false,
     "start_time": "2024-12-08T16:00:48.844181",
     "status": "completed"
    },
    "tags": []
   },
   "outputs": [
    {
     "data": {
      "text/plain": [
       "0.7679425837320574"
      ]
     },
     "execution_count": 14,
     "metadata": {},
     "output_type": "execute_result"
    }
   ],
   "source": [
    "#Decision Tree Classifier\n",
    "dtClass = DecisionTreeClassifier()\n",
    "model = dtClass.fit(X_train,Y_train)\n",
    "model.score(X_test,Y_test)"
   ]
  },
  {
   "cell_type": "code",
   "execution_count": 15,
   "id": "3c7d543d",
   "metadata": {
    "execution": {
     "iopub.execute_input": "2024-12-08T16:00:48.887092Z",
     "iopub.status.busy": "2024-12-08T16:00:48.885916Z",
     "iopub.status.idle": "2024-12-08T16:00:49.135505Z",
     "shell.execute_reply": "2024-12-08T16:00:49.134300Z"
    },
    "papermill": {
     "duration": 0.25895,
     "end_time": "2024-12-08T16:00:49.138202",
     "exception": false,
     "start_time": "2024-12-08T16:00:48.879252",
     "status": "completed"
    },
    "tags": []
   },
   "outputs": [
    {
     "data": {
      "text/plain": [
       "0.7894736842105263"
      ]
     },
     "execution_count": 15,
     "metadata": {},
     "output_type": "execute_result"
    }
   ],
   "source": [
    "#Random Forest Classifier\n",
    "rfClass= RandomForestClassifier()\n",
    "model = rfClass.fit(X_train,Y_train)\n",
    "model.score(X_test,Y_test)"
   ]
  },
  {
   "cell_type": "code",
   "execution_count": 16,
   "id": "8599d8d7",
   "metadata": {
    "execution": {
     "iopub.execute_input": "2024-12-08T16:00:49.151286Z",
     "iopub.status.busy": "2024-12-08T16:00:49.150867Z",
     "iopub.status.idle": "2024-12-08T16:00:49.283427Z",
     "shell.execute_reply": "2024-12-08T16:00:49.280770Z"
    },
    "papermill": {
     "duration": 0.142423,
     "end_time": "2024-12-08T16:00:49.286191",
     "exception": false,
     "start_time": "2024-12-08T16:00:49.143768",
     "status": "completed"
    },
    "tags": []
   },
   "outputs": [
    {
     "data": {
      "text/plain": [
       "0.8205741626794258"
      ]
     },
     "execution_count": 16,
     "metadata": {},
     "output_type": "execute_result"
    }
   ],
   "source": [
    "#XGBoost Classifier\n",
    "xgbClass = XGBClassifier()\n",
    "model = xgbClass.fit(X_train,Y_train)\n",
    "model.score(X_test,Y_test)"
   ]
  },
  {
   "cell_type": "code",
   "execution_count": 17,
   "id": "4fc59560",
   "metadata": {
    "execution": {
     "iopub.execute_input": "2024-12-08T16:00:49.300517Z",
     "iopub.status.busy": "2024-12-08T16:00:49.299740Z",
     "iopub.status.idle": "2024-12-08T16:00:49.456945Z",
     "shell.execute_reply": "2024-12-08T16:00:49.455750Z"
    },
    "papermill": {
     "duration": 0.166615,
     "end_time": "2024-12-08T16:00:49.459349",
     "exception": false,
     "start_time": "2024-12-08T16:00:49.292734",
     "status": "completed"
    },
    "tags": []
   },
   "outputs": [
    {
     "data": {
      "text/plain": [
       "0.8588516746411483"
      ]
     },
     "execution_count": 17,
     "metadata": {},
     "output_type": "execute_result"
    }
   ],
   "source": [
    "#Gradient Boosting Classifier\n",
    "gbClass= GradientBoostingClassifier()\n",
    "model = gbClass.fit(X_train,Y_train)\n",
    "model.score(X_test,Y_test)"
   ]
  },
  {
   "cell_type": "code",
   "execution_count": 18,
   "id": "19cea7ad",
   "metadata": {
    "execution": {
     "iopub.execute_input": "2024-12-08T16:00:49.472662Z",
     "iopub.status.busy": "2024-12-08T16:00:49.472241Z",
     "iopub.status.idle": "2024-12-08T16:00:49.481097Z",
     "shell.execute_reply": "2024-12-08T16:00:49.479757Z"
    },
    "papermill": {
     "duration": 0.018341,
     "end_time": "2024-12-08T16:00:49.483479",
     "exception": false,
     "start_time": "2024-12-08T16:00:49.465138",
     "status": "completed"
    },
    "tags": []
   },
   "outputs": [],
   "source": [
    "predictions = model.predict(X_test)"
   ]
  },
  {
   "cell_type": "code",
   "execution_count": 19,
   "id": "153719d2",
   "metadata": {
    "execution": {
     "iopub.execute_input": "2024-12-08T16:00:49.497224Z",
     "iopub.status.busy": "2024-12-08T16:00:49.496391Z",
     "iopub.status.idle": "2024-12-08T16:00:49.505509Z",
     "shell.execute_reply": "2024-12-08T16:00:49.504552Z"
    },
    "papermill": {
     "duration": 0.018807,
     "end_time": "2024-12-08T16:00:49.507963",
     "exception": false,
     "start_time": "2024-12-08T16:00:49.489156",
     "status": "completed"
    },
    "tags": []
   },
   "outputs": [],
   "source": [
    "output = pd.DataFrame({'PassengerId': X_test_passenger_id.PassengerId, 'Survived': predictions})\n",
    "output.to_csv('submission.csv', index=False)"
   ]
  }
 ],
 "metadata": {
  "kaggle": {
   "accelerator": "none",
   "dataSources": [
    {
     "databundleVersionId": 26502,
     "sourceId": 3136,
     "sourceType": "competition"
    }
   ],
   "dockerImageVersionId": 30804,
   "isGpuEnabled": false,
   "isInternetEnabled": true,
   "language": "python",
   "sourceType": "notebook"
  },
  "kernelspec": {
   "display_name": "Python 3",
   "language": "python",
   "name": "python3"
  },
  "language_info": {
   "codemirror_mode": {
    "name": "ipython",
    "version": 3
   },
   "file_extension": ".py",
   "mimetype": "text/x-python",
   "name": "python",
   "nbconvert_exporter": "python",
   "pygments_lexer": "ipython3",
   "version": "3.10.14"
  },
  "papermill": {
   "default_parameters": {},
   "duration": 7.910699,
   "end_time": "2024-12-08T16:00:50.235897",
   "environment_variables": {},
   "exception": null,
   "input_path": "__notebook__.ipynb",
   "output_path": "__notebook__.ipynb",
   "parameters": {},
   "start_time": "2024-12-08T16:00:42.325198",
   "version": "2.6.0"
  }
 },
 "nbformat": 4,
 "nbformat_minor": 5
}
